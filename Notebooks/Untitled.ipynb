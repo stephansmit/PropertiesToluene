{
 "cells": [
  {
   "cell_type": "code",
   "execution_count": 1,
   "metadata": {},
   "outputs": [],
   "source": [
    "import numpy as np\n",
    "import CoolProp.CoolProp as CP\n",
    "import CoolProp.Plots as CPP\n",
    "import matplotlib.pyplot as plt\n",
    "import pandas as pd \n",
    "import warnings\n",
    "from CoolProp.Plots.SimpleCycles import StateContainer, StatePoint\n",
    "import CoolProp\n",
    "warnings.filterwarnings('ignore')"
   ]
  },
  {
   "cell_type": "code",
   "execution_count": 2,
   "metadata": {},
   "outputs": [],
   "source": [
    "from CoolProp.Plots import PropertyPlot\n"
   ]
  },
  {
   "cell_type": "code",
   "execution_count": 1,
   "metadata": {},
   "outputs": [],
   "source": [
    "eta_t = 0.8\n",
    "eta_c = 0.9\n",
    "dp_evap=0.01\n",
    "dp_cond=0.01\n"
   ]
  },
  {
   "cell_type": "code",
   "execution_count": 136,
   "metadata": {},
   "outputs": [],
   "source": [
    "def expand(ts_in, final_p, eta, fluid):\n",
    "    \n",
    "    #isentropic state\n",
    "    ts_out_s = StatePoint()\n",
    "    ts_out_s.S = ts_in.S\n",
    "    ts_out_s.P = final_p\n",
    "    ts_out_s.H = CP.PropsSI('H','P',ts_out_s.P,'S',ts_out_s.S,fluid)\n",
    "    ts_out_s.T = CP.PropsSI('T','P',ts_out_s.P,'S',ts_out_s.S,fluid)\n",
    "    ts_out_s.D = CP.PropsSI('D','P',ts_out_s.P,'S',ts_out_s.S,fluid)\n",
    "    \n",
    "    #real state\n",
    "    ts_out = StatePoint()\n",
    "    ts_out.P = final_p \n",
    "    ts_out.H = ts_in.H - eta*(ts_in.H-ts_out_s.H) \n",
    "    ts_out.T = CP.PropsSI('T','P',ts_out.P,'H',ts_out.H,fluid)\n",
    "    ts_out.D = CP.PropsSI('D','P',ts_out.P,'H',ts_out.H,fluid)\n",
    "    ts_out.S = CP.PropsSI('S','P',ts_out.P,'H',ts_out.H,fluid)\n",
    "    \n",
    "    return ts_out\n",
    "\n",
    "def compress(ts_in, final_p, eta, fluid):\n",
    "    \n",
    "    #isentropic state\n",
    "    ts_out_s = StatePoint()\n",
    "    ts_out_s.S = ts_in.S\n",
    "    ts_out_s.P = final_p\n",
    "    ts_out_s.H = CP.PropsSI('H','P',ts_out_s.P,'S',ts_out_s.S,fluid)\n",
    "    ts_out_s.T = CP.PropsSI('T','P',ts_out_s.P,'S',ts_out_s.S,fluid)\n",
    "    ts_out_s.D = CP.PropsSI('D','P',ts_out_s.P,'S',ts_out_s.S,fluid)\n",
    "    \n",
    "    #real state\n",
    "    ts_out = StatePoint()\n",
    "    ts_out.P = final_p \n",
    "    ts_out.H = ts_in.H + (1/eta)*(ts_out_s.H-ts_in.H) \n",
    "    \n",
    "    print(ts_out.H,ts_out_s.H)\n",
    "    ts_out.T = CP.PropsSI('T','P',ts_out.P,'H',ts_out.H,fluid)\n",
    "    ts_out.D = CP.PropsSI('D','P',ts_out.P,'H',ts_out.H,fluid)\n",
    "    ts_out.S = CP.PropsSI('S','P',ts_out.P,'H',ts_out.H,fluid)\n",
    "    \n",
    "    return ts_out\n",
    "    \n",
    "\n",
    "def condensor(ts_in, dp, Qout):\n",
    "    ts_out = StatePoint()\n",
    "    ts_out.P = ts_in.P*(1-dp) #pressure drop\n",
    "    ts_out.H = ts_in.H  - Qout  #heat rejection\n",
    "    ts_out.T = CP.PropsSI('T','P',ts_out.P,'H',ts_out.H,fluid)\n",
    "    ts_out.D = CP.PropsSI('D','P',ts_out.P,'H',ts_out.H,fluid)\n",
    "    ts_out.S = CP.PropsSI('S','P',ts_out.P,'H',ts_out.H,fluid)\n",
    "    return ts_out"
   ]
  },
  {
   "cell_type": "code",
   "execution_count": 176,
   "metadata": {},
   "outputs": [
    {
     "name": "stdout",
     "output_type": "stream",
     "text": [
      "(-18327.65074355279, -25369.24350992687)\n"
     ]
    }
   ],
   "source": [
    "fluid = \"Toluene\"\n",
    "\n",
    "\n",
    "\n",
    "#total conditions inlet turbine\n",
    "ts_01 = StatePoint()\n",
    "\n",
    "ts_01.T =  587.65 \n",
    "ts_01.P = 3195000.0\n",
    "ts_01.S = CP.PropsSI('S','P',P_01,'T',T_01,fluid)\n",
    "ts_01.H = CP.PropsSI('H','P',P_01,'T',T_01,fluid)\n",
    "ts_01.D = CP.PropsSI('D','P',P_01,'T',T_01,fluid)\n",
    "\n",
    "\n",
    "cycle_states = StateContainer()\n",
    "cycle_states = cycle_states.append(ts_01)\n",
    "\n",
    "# cycle_states[1,'H']= H_02\n",
    "# cycle_states[1,'S']= S_02\n",
    "# cycle_states[1,\"P\"]= P_02\n",
    "# cycle_states[1,\"T\"]= T_02\n",
    "# cycle_states[1,\"D\"]= D_02\n",
    "ts_02 = expand(cycle_states.get_point(0), 0.2e5,0.9, fluid )\n",
    "cycle_states = cycle_states.append(ts_02)\n",
    "ts_03 = condensor(cycle_states.get_point(1), 0.0,5e5)\n",
    "cycle_states = cycle_states.append(ts_03)\n",
    "ts_04 = compress(cycle_states.get_point(2),3195000,0.5,fluid)\n",
    "cycle_states = cycle_states.append(ts_04)\n",
    "\n",
    "\n",
    "\n",
    "\n",
    "# cycle_states[1,'H']= H_02\n",
    "# cycle_states[1,'S']= S_02\n",
    "# cycle_states[1,\"P\"]= P_02\n",
    "# cycle_states[1,\"T\"]= T_02\n",
    "# cycle_states[1,\"D\"]= D_02\n",
    "\n",
    "\n",
    "# cycle_states[1,'H']= H_02\n",
    "# cycle_states[1,'S']= S_02\n",
    "# cycle_states[1,\"P\"]= P_02\n",
    "# cycle_states[1,\"T\"]= T_02\n",
    "# cycle_states[1,\"D\"]= D_02\n",
    "\n",
    "\n"
   ]
  },
  {
   "cell_type": "code",
   "execution_count": 4,
   "metadata": {},
   "outputs": [
    {
     "data": {
      "image/png": "[encoded data removed]",
      "text/plain": [
       "<matplotlib.figure.Figure at 0x7fecae98ce50>"
      ]
     },
     "metadata": {},
     "output_type": "display_data"
    }
   ],
   "source": [
    "plot = PropertyPlot('Toluene', 'Ts')\n",
    "\n",
    "plot.calc_isolines(CoolProp.iP)\n",
    "\n",
    "plot.show()"
   ]
  },
  {
   "cell_type": "code",
   "execution_count": 51,
   "metadata": {},
   "outputs": [
    {
     "data": {
      "text/plain": [
       "<CoolProp.Plots.SimpleCycles.StateContainer at 0x7fa07d4a6150>"
      ]
     },
     "execution_count": 51,
     "metadata": {},
     "output_type": "execute_result"
    }
   ],
   "source": [
    "\n",
    "test2"
   ]
  },
  {
   "cell_type": "code",
   "execution_count": 128,
   "metadata": {},
   "outputs": [
    {
     "ename": "ValueError",
     "evalue": "T is not a valid number",
     "output_type": "error",
     "traceback": [
      "\u001b[0;31m---------------------------------------------------------------------------\u001b[0m",
      "\u001b[0;31mValueError\u001b[0m                                Traceback (most recent call last)",
      "\u001b[0;32m<ipython-input-128-247bad523e1c>\u001b[0m in \u001b[0;36m<module>\u001b[0;34m()\u001b[0m\n\u001b[1;32m     13\u001b[0m \u001b[0mcycle\u001b[0m\u001b[0;34m.\u001b[0m\u001b[0msimple_solve\u001b[0m\u001b[0;34m(\u001b[0m\u001b[0mT0\u001b[0m\u001b[0;34m,\u001b[0m \u001b[0mp0\u001b[0m\u001b[0;34m,\u001b[0m \u001b[0mT2\u001b[0m\u001b[0;34m,\u001b[0m \u001b[0mp2\u001b[0m\u001b[0;34m,\u001b[0m \u001b[0;36m0.7\u001b[0m\u001b[0;34m,\u001b[0m \u001b[0;36m0.8\u001b[0m\u001b[0;34m,\u001b[0m \u001b[0mSI\u001b[0m\u001b[0;34m=\u001b[0m\u001b[0mTrue\u001b[0m\u001b[0;34m)\u001b[0m\u001b[0;34m\u001b[0m\u001b[0m\n\u001b[1;32m     14\u001b[0m \u001b[0mcycle\u001b[0m\u001b[0;34m.\u001b[0m\u001b[0msteps\u001b[0m \u001b[0;34m=\u001b[0m \u001b[0;36m50\u001b[0m\u001b[0;34m\u001b[0m\u001b[0m\n\u001b[0;32m---> 15\u001b[0;31m \u001b[0msc\u001b[0m \u001b[0;34m=\u001b[0m \u001b[0mcycle\u001b[0m\u001b[0;34m.\u001b[0m\u001b[0mget_state_changes\u001b[0m\u001b[0;34m(\u001b[0m\u001b[0;34m)\u001b[0m\u001b[0;34m\u001b[0m\u001b[0m\n\u001b[0m\u001b[1;32m     16\u001b[0m \u001b[0;32mimport\u001b[0m \u001b[0mmatplotlib\u001b[0m\u001b[0;34m.\u001b[0m\u001b[0mpyplot\u001b[0m \u001b[0;32mas\u001b[0m \u001b[0mplt\u001b[0m\u001b[0;34m\u001b[0m\u001b[0m\n\u001b[1;32m     17\u001b[0m \u001b[0mplt\u001b[0m\u001b[0;34m.\u001b[0m\u001b[0mclose\u001b[0m\u001b[0;34m(\u001b[0m\u001b[0mcycle\u001b[0m\u001b[0;34m.\u001b[0m\u001b[0mfigure\u001b[0m\u001b[0;34m)\u001b[0m\u001b[0;34m\u001b[0m\u001b[0m\n",
      "\u001b[0;32m/usr/local/lib/python2.7/dist-packages/CoolProp/Plots/SimpleCycles.pyc\u001b[0m in \u001b[0;36mget_state_changes\u001b[0;34m(self)\u001b[0m\n\u001b[1;32m    761\u001b[0m \u001b[0;34m\u001b[0m\u001b[0m\n\u001b[1;32m    762\u001b[0m     \u001b[0;32mdef\u001b[0m \u001b[0mget_state_changes\u001b[0m\u001b[0;34m(\u001b[0m\u001b[0mself\u001b[0m\u001b[0;34m)\u001b[0m\u001b[0;34m:\u001b[0m\u001b[0;34m\u001b[0m\u001b[0m\n\u001b[0;32m--> 763\u001b[0;31m         \u001b[0msc\u001b[0m \u001b[0;34m=\u001b[0m \u001b[0mself\u001b[0m\u001b[0;34m.\u001b[0m\u001b[0mget_state_change\u001b[0m\u001b[0;34m(\u001b[0m\u001b[0;36m0\u001b[0m\u001b[0;34m)\u001b[0m\u001b[0;34m\u001b[0m\u001b[0m\n\u001b[0m\u001b[1;32m    764\u001b[0m         \u001b[0;32mfor\u001b[0m \u001b[0mi\u001b[0m \u001b[0;32min\u001b[0m \u001b[0mrange\u001b[0m\u001b[0;34m(\u001b[0m\u001b[0;36m1\u001b[0m\u001b[0;34m,\u001b[0m\u001b[0mself\u001b[0m\u001b[0;34m.\u001b[0m\u001b[0mSTATECOUNT\u001b[0m\u001b[0;34m)\u001b[0m\u001b[0;34m:\u001b[0m\u001b[0;34m\u001b[0m\u001b[0m\n\u001b[1;32m    765\u001b[0m             \u001b[0msc\u001b[0m\u001b[0;34m.\u001b[0m\u001b[0mextend\u001b[0m\u001b[0;34m(\u001b[0m\u001b[0mself\u001b[0m\u001b[0;34m.\u001b[0m\u001b[0mget_state_change\u001b[0m\u001b[0;34m(\u001b[0m\u001b[0mi\u001b[0m\u001b[0;34m)\u001b[0m\u001b[0;34m)\u001b[0m\u001b[0;34m\u001b[0m\u001b[0m\n",
      "\u001b[0;32m/usr/local/lib/python2.7/dist-packages/CoolProp/Plots/SimpleCycles.pyc\u001b[0m in \u001b[0;36mget_state_change\u001b[0;34m(self, index)\u001b[0m\n\u001b[1;32m    758\u001b[0m \u001b[0;34m\u001b[0m\u001b[0m\n\u001b[1;32m    759\u001b[0m     \u001b[0;32mdef\u001b[0m \u001b[0mget_state_change\u001b[0m\u001b[0;34m(\u001b[0m\u001b[0mself\u001b[0m\u001b[0;34m,\u001b[0m \u001b[0mindex\u001b[0m\u001b[0;34m)\u001b[0m\u001b[0;34m:\u001b[0m\u001b[0;34m\u001b[0m\u001b[0m\n\u001b[0;32m--> 760\u001b[0;31m         \u001b[0;32mreturn\u001b[0m \u001b[0mself\u001b[0m\u001b[0;34m.\u001b[0m\u001b[0mSTATECHANGE\u001b[0m\u001b[0;34m[\u001b[0m\u001b[0mindex\u001b[0m\u001b[0;34m]\u001b[0m\u001b[0;34m(\u001b[0m\u001b[0mself\u001b[0m\u001b[0;34m)\u001b[0m\u001b[0;34m\u001b[0m\u001b[0m\n\u001b[0m\u001b[1;32m    761\u001b[0m \u001b[0;34m\u001b[0m\u001b[0m\n\u001b[1;32m    762\u001b[0m     \u001b[0;32mdef\u001b[0m \u001b[0mget_state_changes\u001b[0m\u001b[0;34m(\u001b[0m\u001b[0mself\u001b[0m\u001b[0;34m)\u001b[0m\u001b[0;34m:\u001b[0m\u001b[0;34m\u001b[0m\u001b[0m\n",
      "\u001b[0;32m/usr/local/lib/python2.7/dist-packages/CoolProp/Plots/SimpleCyclesExpansion.pyc\u001b[0m in \u001b[0;36m<lambda>\u001b[0;34m(inp)\u001b[0m\n\u001b[1;32m     47\u001b[0m     \u001b[0mSTATECOUNT\u001b[0m\u001b[0;34m=\u001b[0m\u001b[0;36m4\u001b[0m\u001b[0;34m\u001b[0m\u001b[0m\n\u001b[1;32m     48\u001b[0m     STATECHANGE=[\n\u001b[0;32m---> 49\u001b[0;31m       \u001b[0;32mlambda\u001b[0m \u001b[0minp\u001b[0m\u001b[0;34m:\u001b[0m \u001b[0mBaseCycle\u001b[0m\u001b[0;34m.\u001b[0m\u001b[0mstate_change\u001b[0m\u001b[0;34m(\u001b[0m\u001b[0minp\u001b[0m\u001b[0;34m,\u001b[0m\u001b[0;34m'S'\u001b[0m\u001b[0;34m,\u001b[0m\u001b[0;34m'P'\u001b[0m\u001b[0;34m,\u001b[0m\u001b[0;36m0\u001b[0m\u001b[0;34m,\u001b[0m\u001b[0mty1\u001b[0m\u001b[0;34m=\u001b[0m\u001b[0;34m'log'\u001b[0m\u001b[0;34m,\u001b[0m\u001b[0mty2\u001b[0m\u001b[0;34m=\u001b[0m\u001b[0;34m'log'\u001b[0m\u001b[0;34m)\u001b[0m\u001b[0;34m,\u001b[0m \u001b[0;31m# Pumping process\u001b[0m\u001b[0;34m\u001b[0m\u001b[0m\n\u001b[0m\u001b[1;32m     50\u001b[0m       \u001b[0;32mlambda\u001b[0m \u001b[0minp\u001b[0m\u001b[0;34m:\u001b[0m \u001b[0mBaseCycle\u001b[0m\u001b[0;34m.\u001b[0m\u001b[0mstate_change\u001b[0m\u001b[0;34m(\u001b[0m\u001b[0minp\u001b[0m\u001b[0;34m,\u001b[0m\u001b[0;34m'H'\u001b[0m\u001b[0;34m,\u001b[0m\u001b[0;34m'P'\u001b[0m\u001b[0;34m,\u001b[0m\u001b[0;36m1\u001b[0m\u001b[0;34m,\u001b[0m\u001b[0mty1\u001b[0m\u001b[0;34m=\u001b[0m\u001b[0;34m'lin'\u001b[0m\u001b[0;34m,\u001b[0m\u001b[0mty2\u001b[0m\u001b[0;34m=\u001b[0m\u001b[0;34m'lin'\u001b[0m\u001b[0;34m)\u001b[0m\u001b[0;34m,\u001b[0m \u001b[0;31m# Heat addition\u001b[0m\u001b[0;34m\u001b[0m\u001b[0m\n\u001b[1;32m     51\u001b[0m       \u001b[0;32mlambda\u001b[0m \u001b[0minp\u001b[0m\u001b[0;34m:\u001b[0m \u001b[0mBaseCycle\u001b[0m\u001b[0;34m.\u001b[0m\u001b[0mstate_change\u001b[0m\u001b[0;34m(\u001b[0m\u001b[0minp\u001b[0m\u001b[0;34m,\u001b[0m\u001b[0;34m'H'\u001b[0m\u001b[0;34m,\u001b[0m\u001b[0;34m'P'\u001b[0m\u001b[0;34m,\u001b[0m\u001b[0;36m2\u001b[0m\u001b[0;34m,\u001b[0m\u001b[0mty1\u001b[0m\u001b[0;34m=\u001b[0m\u001b[0;34m'log'\u001b[0m\u001b[0;34m,\u001b[0m\u001b[0mty2\u001b[0m\u001b[0;34m=\u001b[0m\u001b[0;34m'log'\u001b[0m\u001b[0;34m)\u001b[0m\u001b[0;34m,\u001b[0m \u001b[0;31m# Expansion\u001b[0m\u001b[0;34m\u001b[0m\u001b[0m\n",
      "\u001b[0;32m/usr/local/lib/python2.7/dist-packages/CoolProp/Plots/SimpleCycles.pyc\u001b[0m in \u001b[0;36mstate_change\u001b[0;34m(self, in1, in2, start, ty1, ty2)\u001b[0m\n\u001b[1;32m    755\u001b[0m             \u001b[0msc\u001b[0m\u001b[0;34m[\u001b[0m\u001b[0mi\u001b[0m\u001b[0;34m,\u001b[0m\u001b[0minv\u001b[0m\u001b[0;34m[\u001b[0m\u001b[0;36m1\u001b[0m\u001b[0;34m]\u001b[0m\u001b[0;34m]\u001b[0m \u001b[0;34m=\u001b[0m \u001b[0mval\u001b[0m\u001b[0;34m[\u001b[0m\u001b[0;36m1\u001b[0m\u001b[0;34m]\u001b[0m\u001b[0;34m[\u001b[0m\u001b[0mi\u001b[0m\u001b[0;34m]\u001b[0m\u001b[0;34m\u001b[0m\u001b[0m\n\u001b[1;32m    756\u001b[0m \u001b[0;34m\u001b[0m\u001b[0m\n\u001b[0;32m--> 757\u001b[0;31m         \u001b[0;32mreturn\u001b[0m \u001b[0mself\u001b[0m\u001b[0;34m.\u001b[0m\u001b[0mfill_states\u001b[0m\u001b[0;34m(\u001b[0m\u001b[0msc\u001b[0m\u001b[0;34m)\u001b[0m\u001b[0;34m\u001b[0m\u001b[0m\n\u001b[0m\u001b[1;32m    758\u001b[0m \u001b[0;34m\u001b[0m\u001b[0m\n\u001b[1;32m    759\u001b[0m     \u001b[0;32mdef\u001b[0m \u001b[0mget_state_change\u001b[0m\u001b[0;34m(\u001b[0m\u001b[0mself\u001b[0m\u001b[0;34m,\u001b[0m \u001b[0mindex\u001b[0m\u001b[0;34m)\u001b[0m\u001b[0;34m:\u001b[0m\u001b[0;34m\u001b[0m\u001b[0m\n",
      "\u001b[0;32m/usr/local/lib/python2.7/dist-packages/CoolProp/Plots/SimpleCycles.pyc\u001b[0m in \u001b[0;36mfill_states\u001b[0;34m(self, objs)\u001b[0m\n\u001b[1;32m    696\u001b[0m             elif (objs[i][CoolProp.iP] is not None and \n\u001b[1;32m    697\u001b[0m               objs[i][CoolProp.iSmass] is not None):\n\u001b[0;32m--> 698\u001b[0;31m                 \u001b[0mself\u001b[0m\u001b[0;34m.\u001b[0m\u001b[0m_state\u001b[0m\u001b[0;34m.\u001b[0m\u001b[0mupdate\u001b[0m\u001b[0;34m(\u001b[0m\u001b[0mCoolProp\u001b[0m\u001b[0;34m.\u001b[0m\u001b[0mPSmass_INPUTS\u001b[0m\u001b[0;34m,\u001b[0m \u001b[0mobjs\u001b[0m\u001b[0;34m[\u001b[0m\u001b[0mi\u001b[0m\u001b[0;34m]\u001b[0m\u001b[0;34m[\u001b[0m\u001b[0mCoolProp\u001b[0m\u001b[0;34m.\u001b[0m\u001b[0miP\u001b[0m\u001b[0;34m]\u001b[0m\u001b[0;34m,\u001b[0m \u001b[0mobjs\u001b[0m\u001b[0;34m[\u001b[0m\u001b[0mi\u001b[0m\u001b[0;34m]\u001b[0m\u001b[0;34m[\u001b[0m\u001b[0mCoolProp\u001b[0m\u001b[0;34m.\u001b[0m\u001b[0miSmass\u001b[0m\u001b[0;34m]\u001b[0m\u001b[0;34m)\u001b[0m\u001b[0;34m\u001b[0m\u001b[0m\n\u001b[0m\u001b[1;32m    699\u001b[0m             \u001b[0;32melse\u001b[0m\u001b[0;34m:\u001b[0m\u001b[0;34m\u001b[0m\u001b[0m\n\u001b[1;32m    700\u001b[0m                 \u001b[0mwarnings\u001b[0m\u001b[0;34m.\u001b[0m\u001b[0mwarn\u001b[0m\u001b[0;34m(\u001b[0m\u001b[0;34m\"Please fill the state[{0:s}] manually.\"\u001b[0m\u001b[0;34m.\u001b[0m\u001b[0mformat\u001b[0m\u001b[0;34m(\u001b[0m\u001b[0mstr\u001b[0m\u001b[0;34m(\u001b[0m\u001b[0mi\u001b[0m\u001b[0;34m)\u001b[0m\u001b[0;34m)\u001b[0m\u001b[0;34m)\u001b[0m\u001b[0;34m\u001b[0m\u001b[0m\n",
      "\u001b[0;32mCoolProp/AbstractState.pyx\u001b[0m in \u001b[0;36mCoolProp.CoolProp.AbstractState.update (CoolProp/CoolProp.cpp:17930)\u001b[0;34m()\u001b[0m\n",
      "\u001b[0;32mCoolProp/AbstractState.pyx\u001b[0m in \u001b[0;36mCoolProp.CoolProp.AbstractState.update (CoolProp/CoolProp.cpp:17822)\u001b[0;34m()\u001b[0m\n",
      "\u001b[0;31mValueError\u001b[0m: T is not a valid number"
     ]
    },
    {
     "data": {
      "image/png": "[encoded data removed]",
      "text/plain": [
       "<matplotlib.figure.Figure at 0x7fa0732e4dd0>"
      ]
     },
     "metadata": {},
     "output_type": "display_data"
    },
    {
     "data": {
      "image/png": "[encoded data removed]",
      "text/plain": [
       "<matplotlib.figure.Figure at 0x7fa07327f190>"
      ]
     },
     "metadata": {},
     "output_type": "display_data"
    }
   ],
   "source": [
    "import CoolProp\n",
    "from CoolProp.Plots import PropertyPlot\n",
    "from CoolProp.Plots import SimpleRankineCycle\n",
    "pp = PropertyPlot('HEOS::Toluene', 'TS', unit_system='EUR')\n",
    "pp.calc_isolines(CoolProp.iQ, num=11)\n",
    "cycle = SimpleRankineCycle('HEOS::Toluene', 'TS', unit_system='EUR')\n",
    "T0 = 370\n",
    "pp.state.update(CoolProp.QT_INPUTS,0.0,T0+15)\n",
    "p0 = pp.state.keyed_output(CoolProp.iP)\n",
    "T2 = 500\n",
    "pp.state.update(CoolProp.QT_INPUTS,1.0,T2-150)\n",
    "p2 = pp.state.keyed_output(CoolProp.iP)\n",
    "cycle.simple_solve(T0, p0, T2, p2, 0.7, 0.8, SI=True)\n",
    "cycle.steps = 50\n",
    "sc = cycle.get_state_changes()\n",
    "import matplotlib.pyplot as plt\n",
    "plt.close(cycle.figure)\n",
    "pp.draw_process(sc)\n",
    "pp.calc_isolines(CoolProp.iP)\n",
    "pp.draw()\n",
    "# plot = PropertyPlot('Toluene', 'hs')\n",
    "\n",
    "# plot.calc_isolines(CoolProp.iP)\n",
    "# plot.draw_process(test2)\n",
    "\n",
    "plot.show()"
   ]
  },
  {
   "cell_type": "code",
   "execution_count": 103,
   "metadata": {},
   "outputs": [
    {
     "data": {
      "text/plain": [
       "CoolProp.Plots.Plots.PropertyPlot"
      ]
     },
     "execution_count": 103,
     "metadata": {},
     "output_type": "execute_result"
    }
   ],
   "source": [
    "type(pp)"
   ]
  },
  {
   "cell_type": "code",
   "execution_count": 95,
   "metadata": {},
   "outputs": [
    {
     "data": {
      "text/plain": [
       "20"
      ]
     },
     "execution_count": 95,
     "metadata": {},
     "output_type": "execute_result"
    }
   ],
   "source": [
    "CoolProp.iP"
   ]
  },
  {
   "cell_type": "code",
   "execution_count": null,
   "metadata": {},
   "outputs": [],
   "source": []
  }
 ],
 "metadata": {
  "kernelspec": {
   "display_name": "Python 2",
   "language": "python",
   "name": "python2"
  },
  "language_info": {
   "codemirror_mode": {
    "name": "ipython",
    "version": 2
   },
   "file_extension": ".py",
   "mimetype": "text/x-python",
   "name": "python",
   "nbconvert_exporter": "python",
   "pygments_lexer": "ipython2",
   "version": "2.7.12"
  }
 },
 "nbformat": 4,
 "nbformat_minor": 2
}
